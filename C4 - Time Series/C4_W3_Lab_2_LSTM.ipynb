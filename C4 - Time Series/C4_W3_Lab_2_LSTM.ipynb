{
  "cells": [
    {
      "cell_type": "markdown",
      "metadata": {
        "id": "OLYqkTnz7YrH"
      },
      "source": [
        "<a href=\"https://colab.research.google.com/github/https-deeplearning-ai/tensorflow-1-public/blob/main/C4/W3/ungraded_labs/C4_W3_Lab_2_LSTM.ipynb\" target=\"_parent\"><img src=\"https://colab.research.google.com/assets/colab-badge.svg\" alt=\"Open In Colab\"/></a>"
      ]
    },
    {
      "cell_type": "markdown",
      "metadata": {
        "id": "sV_nvXSQGJPK"
      },
      "source": [
        "# Ungraded Lab: Using a multi-layer LSTM for forecasting\n",
        "\n",
        "In this lab, you will use the same RNN architecure in the first lab but will instead stack [LSTM](https://www.tensorflow.org/api_docs/python/tf/keras/layers/LSTM) layers instead of `SimpleRNN`."
      ]
    },
    {
      "cell_type": "markdown",
      "metadata": {
        "id": "3IMbAWETGOWD"
      },
      "source": [
        "## Imports"
      ]
    },
    {
      "cell_type": "code",
      "execution_count": 1,
      "metadata": {
        "id": "BOjujz601HcS"
      },
      "outputs": [],
      "source": [
        "import tensorflow as tf\n",
        "import numpy as np\n",
        "import matplotlib.pyplot as plt"
      ]
    },
    {
      "cell_type": "markdown",
      "metadata": {
        "id": "kD7RQQ0xGQVH"
      },
      "source": [
        "## Utilities"
      ]
    },
    {
      "cell_type": "code",
      "execution_count": 2,
      "metadata": {
        "id": "Zswl7jRtGzkk"
      },
      "outputs": [],
      "source": [
        "def plot_series(time, series, format=\"-\", start=0, end=None):\n",
        "    \"\"\"\n",
        "    Visualizes time series data\n",
        "\n",
        "    Args:\n",
        "      time (array of int) - contains the time steps\n",
        "      series (array of int) - contains the measurements for each time step\n",
        "      format - line style when plotting the graph\n",
        "      start - first time step to plot\n",
        "      end - last time step to plot\n",
        "    \"\"\"\n",
        "\n",
        "    # Setup dimensions of the graph figure\n",
        "    plt.figure(figsize=(10, 6))\n",
        "    \n",
        "    if type(series) is tuple:\n",
        "\n",
        "      for series_num in series:\n",
        "        # Plot the time series data\n",
        "        plt.plot(time[start:end], series_num[start:end], format)\n",
        "\n",
        "    else:\n",
        "      # Plot the time series data\n",
        "      plt.plot(time[start:end], series[start:end], format)\n",
        "\n",
        "    # Label the x-axis\n",
        "    plt.xlabel(\"Time\")\n",
        "\n",
        "    # Label the y-axis\n",
        "    plt.ylabel(\"Value\")\n",
        "\n",
        "    # Overlay a grid on the graph\n",
        "    plt.grid(True)\n",
        "\n",
        "    # Draw the graph on screen\n",
        "    plt.show()\n",
        "\n",
        "def trend(time, slope=0):\n",
        "    \"\"\"\n",
        "    Generates synthetic data that follows a straight line given a slope value.\n",
        "\n",
        "    Args:\n",
        "      time (array of int) - contains the time steps\n",
        "      slope (float) - determines the direction and steepness of the line\n",
        "\n",
        "    Returns:\n",
        "      series (array of float) - measurements that follow a straight line\n",
        "    \"\"\"\n",
        "\n",
        "    # Compute the linear series given the slope\n",
        "    series = slope * time\n",
        "\n",
        "    return series\n",
        "\n",
        "def seasonal_pattern(season_time):\n",
        "    \"\"\"\n",
        "    Just an arbitrary pattern, you can change it if you wish\n",
        "    \n",
        "    Args:\n",
        "      season_time (array of float) - contains the measurements per time step\n",
        "\n",
        "    Returns:\n",
        "      data_pattern (array of float) -  contains revised measurement values according \n",
        "                                  to the defined pattern\n",
        "    \"\"\"\n",
        "\n",
        "    # Generate the values using an arbitrary pattern\n",
        "    data_pattern = np.where(season_time < 0.4,\n",
        "                    np.cos(season_time * 2 * np.pi),\n",
        "                    1 / np.exp(3 * season_time))\n",
        "    \n",
        "    return data_pattern\n",
        "\n",
        "def seasonality(time, period, amplitude=1, phase=0):\n",
        "    \"\"\"\n",
        "    Repeats the same pattern at each period\n",
        "\n",
        "    Args:\n",
        "      time (array of int) - contains the time steps\n",
        "      period (int) - number of time steps before the pattern repeats\n",
        "      amplitude (int) - peak measured value in a period\n",
        "      phase (int) - number of time steps to shift the measured values\n",
        "\n",
        "    Returns:\n",
        "      data_pattern (array of float) - seasonal data scaled by the defined amplitude\n",
        "    \"\"\"\n",
        "    \n",
        "    # Define the measured values per period\n",
        "    season_time = ((time + phase) % period) / period\n",
        "\n",
        "    # Generates the seasonal data scaled by the defined amplitude\n",
        "    data_pattern = amplitude * seasonal_pattern(season_time)\n",
        "\n",
        "    return data_pattern\n",
        "\n",
        "def noise(time, noise_level=1, seed=None):\n",
        "    \"\"\"Generates a normally distributed noisy signal\n",
        "\n",
        "    Args:\n",
        "      time (array of int) - contains the time steps\n",
        "      noise_level (float) - scaling factor for the generated signal\n",
        "      seed (int) - number generator seed for repeatability\n",
        "\n",
        "    Returns:\n",
        "      noise (array of float) - the noisy signal\n",
        "    \"\"\"\n",
        "\n",
        "    # Initialize the random number generator\n",
        "    rnd = np.random.RandomState(seed)\n",
        "\n",
        "    # Generate a random number for each time step and scale by the noise level\n",
        "    noise = rnd.randn(len(time)) * noise_level\n",
        "    \n",
        "    return noise"
      ]
    },
    {
      "cell_type": "markdown",
      "metadata": {
        "id": "yxNyeFWjGSdj"
      },
      "source": [
        "## Generate the Synthetic Data"
      ]
    },
    {
      "cell_type": "code",
      "execution_count": 3,
      "metadata": {
        "id": "KYEUfDbdpHPm",
        "colab": {
          "base_uri": "https://localhost:8080/",
          "height": 542
        },
        "outputId": "f4decec3-bf02-4cba-bdab-109d516e8439"
      },
      "outputs": [
        {
          "output_type": "display_data",
          "data": {
            "text/plain": [
              "<Figure size 1000x600 with 1 Axes>"
            ],
            "image/png": "[encoded data removed]"
          },
          "metadata": {}
        }
      ],
      "source": [
        "# Parameters\n",
        "time = np.arange(4 * 365 + 1, dtype=\"float32\")\n",
        "baseline = 10\n",
        "amplitude = 40\n",
        "slope = 0.05\n",
        "noise_level = 5\n",
        "\n",
        "# Create the series\n",
        "series = baseline + trend(time, slope) + seasonality(time, period=365, amplitude=amplitude)\n",
        "\n",
        "# Update with noise\n",
        "series += noise(time, noise_level, seed=42)\n",
        "\n",
        "# Plot the results\n",
        "plot_series(time, series)"
      ]
    },
    {
      "cell_type": "markdown",
      "metadata": {
        "id": "MYKCvv-eGWRc"
      },
      "source": [
        "## Split the Dataset"
      ]
    },
    {
      "cell_type": "code",
      "execution_count": 4,
      "metadata": {
        "id": "hpp0slenpKVD"
      },
      "outputs": [],
      "source": [
        "# Define the split time\n",
        "split_time = 1000\n",
        "\n",
        "# Get the train set \n",
        "time_train = time[:split_time]\n",
        "x_train = series[:split_time]\n",
        "\n",
        "# Get the validation set\n",
        "time_valid = time[split_time:]\n",
        "x_valid = series[split_time:]"
      ]
    },
    {
      "cell_type": "markdown",
      "metadata": {
        "id": "cktHz9aOGYtV"
      },
      "source": [
        "## Prepare Features and Labels"
      ]
    },
    {
      "cell_type": "code",
      "execution_count": 5,
      "metadata": {
        "id": "G_j_2_Mqwn7-"
      },
      "outputs": [],
      "source": [
        "# Parameters\n",
        "window_size = 20\n",
        "batch_size = 32\n",
        "shuffle_buffer_size = 1000"
      ]
    },
    {
      "cell_type": "code",
      "execution_count": 6,
      "metadata": {
        "id": "4sTTIOCbyShY"
      },
      "outputs": [],
      "source": [
        "def windowed_dataset(series, window_size, batch_size, shuffle_buffer):\n",
        "    \"\"\"Generates dataset windows\n",
        "\n",
        "    Args:\n",
        "      series (array of float) - contains the values of the time series\n",
        "      window_size (int) - the number of time steps to include in the feature\n",
        "      batch_size (int) - the batch size\n",
        "      shuffle_buffer(int) - buffer size to use for the shuffle method\n",
        "\n",
        "    Returns:\n",
        "      dataset (TF Dataset) - TF Dataset containing time windows\n",
        "    \"\"\"\n",
        "  \n",
        "    # Generate a TF Dataset from the series values\n",
        "    dataset = tf.data.Dataset.from_tensor_slices(series)\n",
        "    \n",
        "    # Window the data but only take those with the specified size\n",
        "    dataset = dataset.window(window_size + 1, shift=1, drop_remainder=True)\n",
        "    \n",
        "    # Flatten the windows by putting its elements in a single batch\n",
        "    dataset = dataset.flat_map(lambda window: window.batch(window_size + 1))\n",
        "\n",
        "    # Create tuples with features and labels \n",
        "    dataset = dataset.map(lambda window: (window[:-1], window[-1]))\n",
        "\n",
        "    # Shuffle the windows\n",
        "    dataset = dataset.shuffle(shuffle_buffer)\n",
        "    \n",
        "    # Create batches of windows\n",
        "    dataset = dataset.batch(batch_size).prefetch(1)\n",
        "    \n",
        "    return dataset"
      ]
    },
    {
      "cell_type": "code",
      "execution_count": 7,
      "metadata": {
        "id": "vGj5-InSwtQQ"
      },
      "outputs": [],
      "source": [
        "# Generate the dataset windows\n",
        "dataset = windowed_dataset(x_train, window_size, batch_size, shuffle_buffer_size)"
      ]
    },
    {
      "cell_type": "markdown",
      "metadata": {
        "id": "p9-Ke8ZaGcjd"
      },
      "source": [
        "## Build the Model\n",
        "\n",
        "As mentioned, you will swap `SimpleRNN` for `LSTM` in this lab. It is also set as bidirectional below but feel free to revise later and see what results you get. LSTMs are much more complex in their internal architecture than simpleRNNs. It implements a cell state that allows it to remember sequences better than simple implementations. This added complexity results in a bigger set of parameters to train and you'll see that when you print the model summary below."
      ]
    },
    {
      "cell_type": "code",
      "execution_count": 8,
      "metadata": {
        "id": "A1Hl39rklkLm",
        "colab": {
          "base_uri": "https://localhost:8080/"
        },
        "outputId": "41d04ed7-f25f-4b23-c81c-222611835076"
      },
      "outputs": [
        {
          "output_type": "stream",
          "name": "stdout",
          "text": [
            "Model: \"sequential\"\n",
            "_________________________________________________________________\n",
            " Layer (type)                Output Shape              Param #   \n",
            "=================================================================\n",
            " lambda (Lambda)             (None, 20, 1)             0         \n",
            "                                                                 \n",
            " bidirectional (Bidirectiona  (None, 20, 64)           8704      \n",
            " l)                                                              \n",
            "                                                                 \n",
            " bidirectional_1 (Bidirectio  (None, 64)               24832     \n",
            " nal)                                                            \n",
            "                                                                 \n",
            " dense (Dense)               (None, 1)                 65        \n",
            "                                                                 \n",
            " lambda_1 (Lambda)           (None, 1)                 0         \n",
            "                                                                 \n",
            "=================================================================\n",
            "Total params: 33,601\n",
            "Trainable params: 33,601\n",
            "Non-trainable params: 0\n",
            "_________________________________________________________________\n"
          ]
        }
      ],
      "source": [
        "# Build the Model\n",
        "model_tune = tf.keras.models.Sequential([\n",
        "  tf.keras.layers.Lambda(lambda x: tf.expand_dims(x, axis=-1),\n",
        "                      input_shape=[window_size]),\n",
        "    tf.keras.layers.Bidirectional(tf.keras.layers.LSTM(32, return_sequences=True)),\n",
        "  tf.keras.layers.Bidirectional(tf.keras.layers.LSTM(32)),\n",
        "  tf.keras.layers.Dense(1),\n",
        "  tf.keras.layers.Lambda(lambda x: x * 100.0)\n",
        "])\n",
        "\n",
        "# Print the model summary\n",
        "model_tune.summary()"
      ]
    },
    {
      "cell_type": "markdown",
      "metadata": {
        "id": "FHaFblbwq0GV"
      },
      "source": [
        "## Tune the Learning Rate\n",
        "\n",
        "As usual, you will pick a learning rate by running the tuning code below."
      ]
    },
    {
      "cell_type": "code",
      "execution_count": 9,
      "metadata": {
        "id": "qE7al18qw48G",
        "colab": {
          "base_uri": "https://localhost:8080/"
        },
        "outputId": "ae67f9f3-f64a-4f82-8784-6e479eff5d2a"
      },
      "outputs": [
        {
          "output_type": "stream",
          "name": "stdout",
          "text": [
            "Epoch 1/100\n",
            "31/31 [==============================] - 25s 82ms/step - loss: 36.9833 - lr: 1.0000e-08\n",
            "Epoch 2/100\n",
            "31/31 [==============================] - 2s 55ms/step - loss: 36.2782 - lr: 1.1220e-08\n",
            "Epoch 3/100\n",
            "31/31 [==============================] - 2s 57ms/step - loss: 35.4247 - lr: 1.2589e-08\n",
            "Epoch 4/100\n",
            "31/31 [==============================] - 1s 33ms/step - loss: 34.4678 - lr: 1.4125e-08\n",
            "Epoch 5/100\n",
            "31/31 [==============================] - 1s 35ms/step - loss: 33.4013 - lr: 1.5849e-08\n",
            "Epoch 6/100\n",
            "31/31 [==============================] - 1s 36ms/step - loss: 32.2095 - lr: 1.7783e-08\n",
            "Epoch 7/100\n",
            "31/31 [==============================] - 1s 39ms/step - loss: 30.9032 - lr: 1.9953e-08\n",
            "Epoch 8/100\n",
            "31/31 [==============================] - 1s 39ms/step - loss: 29.4743 - lr: 2.2387e-08\n",
            "Epoch 9/100\n",
            "31/31 [==============================] - 1s 34ms/step - loss: 27.9089 - lr: 2.5119e-08\n",
            "Epoch 10/100\n",
            "31/31 [==============================] - 2s 67ms/step - loss: 26.2104 - lr: 2.8184e-08\n",
            "Epoch 11/100\n",
            "31/31 [==============================] - 1s 41ms/step - loss: 24.4083 - lr: 3.1623e-08\n",
            "Epoch 12/100\n",
            "31/31 [==============================] - 1s 39ms/step - loss: 22.5743 - lr: 3.5481e-08\n",
            "Epoch 13/100\n",
            "31/31 [==============================] - 1s 38ms/step - loss: 20.8499 - lr: 3.9811e-08\n",
            "Epoch 14/100\n",
            "31/31 [==============================] - 1s 40ms/step - loss: 19.3437 - lr: 4.4668e-08\n",
            "Epoch 15/100\n",
            "31/31 [==============================] - 1s 39ms/step - loss: 18.0631 - lr: 5.0119e-08\n",
            "Epoch 16/100\n",
            "31/31 [==============================] - 2s 51ms/step - loss: 17.0690 - lr: 5.6234e-08\n",
            "Epoch 17/100\n",
            "31/31 [==============================] - 1s 40ms/step - loss: 16.3249 - lr: 6.3096e-08\n",
            "Epoch 18/100\n",
            "31/31 [==============================] - 1s 35ms/step - loss: 15.7209 - lr: 7.0795e-08\n",
            "Epoch 19/100\n",
            "31/31 [==============================] - 1s 36ms/step - loss: 15.1679 - lr: 7.9433e-08\n",
            "Epoch 20/100\n",
            "31/31 [==============================] - 1s 33ms/step - loss: 14.6847 - lr: 8.9125e-08\n",
            "Epoch 21/100\n",
            "31/31 [==============================] - 1s 38ms/step - loss: 14.2224 - lr: 1.0000e-07\n",
            "Epoch 22/100\n",
            "31/31 [==============================] - 3s 73ms/step - loss: 13.8630 - lr: 1.1220e-07\n",
            "Epoch 23/100\n",
            "31/31 [==============================] - 1s 34ms/step - loss: 13.5512 - lr: 1.2589e-07\n",
            "Epoch 24/100\n",
            "31/31 [==============================] - 1s 39ms/step - loss: 13.2745 - lr: 1.4125e-07\n",
            "Epoch 25/100\n",
            "31/31 [==============================] - 1s 39ms/step - loss: 13.0040 - lr: 1.5849e-07\n",
            "Epoch 26/100\n",
            "31/31 [==============================] - 1s 34ms/step - loss: 12.7253 - lr: 1.7783e-07\n",
            "Epoch 27/100\n",
            "31/31 [==============================] - 1s 33ms/step - loss: 12.4377 - lr: 1.9953e-07\n",
            "Epoch 28/100\n",
            "31/31 [==============================] - 1s 36ms/step - loss: 12.1340 - lr: 2.2387e-07\n",
            "Epoch 29/100\n",
            "31/31 [==============================] - 1s 36ms/step - loss: 11.8100 - lr: 2.5119e-07\n",
            "Epoch 30/100\n",
            "31/31 [==============================] - 2s 45ms/step - loss: 11.4467 - lr: 2.8184e-07\n",
            "Epoch 31/100\n",
            "31/31 [==============================] - 2s 45ms/step - loss: 11.0125 - lr: 3.1623e-07\n",
            "Epoch 32/100\n",
            "31/31 [==============================] - 1s 38ms/step - loss: 10.0553 - lr: 3.5481e-07\n",
            "Epoch 33/100\n",
            "31/31 [==============================] - 1s 33ms/step - loss: 9.3578 - lr: 3.9811e-07\n",
            "Epoch 34/100\n",
            "31/31 [==============================] - 1s 39ms/step - loss: 8.9769 - lr: 4.4668e-07\n",
            "Epoch 35/100\n",
            "31/31 [==============================] - 1s 33ms/step - loss: 8.6327 - lr: 5.0119e-07\n",
            "Epoch 36/100\n",
            "31/31 [==============================] - 1s 33ms/step - loss: 8.2807 - lr: 5.6234e-07\n",
            "Epoch 37/100\n",
            "31/31 [==============================] - 2s 58ms/step - loss: 7.9456 - lr: 6.3096e-07\n",
            "Epoch 38/100\n",
            "31/31 [==============================] - 1s 39ms/step - loss: 7.6673 - lr: 7.0795e-07\n",
            "Epoch 39/100\n",
            "31/31 [==============================] - 1s 34ms/step - loss: 7.6495 - lr: 7.9433e-07\n",
            "Epoch 40/100\n",
            "31/31 [==============================] - 1s 39ms/step - loss: 7.6890 - lr: 8.9125e-07\n",
            "Epoch 41/100\n",
            "31/31 [==============================] - 1s 34ms/step - loss: 7.2377 - lr: 1.0000e-06\n",
            "Epoch 42/100\n",
            "31/31 [==============================] - 1s 33ms/step - loss: 6.9979 - lr: 1.1220e-06\n",
            "Epoch 43/100\n",
            "31/31 [==============================] - 2s 49ms/step - loss: 7.0898 - lr: 1.2589e-06\n",
            "Epoch 44/100\n",
            "31/31 [==============================] - 1s 38ms/step - loss: 7.2999 - lr: 1.4125e-06\n",
            "Epoch 45/100\n",
            "31/31 [==============================] - 1s 34ms/step - loss: 6.7853 - lr: 1.5849e-06\n",
            "Epoch 46/100\n",
            "31/31 [==============================] - 1s 33ms/step - loss: 6.3112 - lr: 1.7783e-06\n",
            "Epoch 47/100\n",
            "31/31 [==============================] - 1s 37ms/step - loss: 6.3423 - lr: 1.9953e-06\n",
            "Epoch 48/100\n",
            "31/31 [==============================] - 1s 38ms/step - loss: 6.0498 - lr: 2.2387e-06\n",
            "Epoch 49/100\n",
            "31/31 [==============================] - 1s 36ms/step - loss: 6.0791 - lr: 2.5119e-06\n",
            "Epoch 50/100\n",
            "31/31 [==============================] - 1s 33ms/step - loss: 5.6704 - lr: 2.8184e-06\n",
            "Epoch 51/100\n",
            "31/31 [==============================] - 2s 49ms/step - loss: 5.5801 - lr: 3.1623e-06\n",
            "Epoch 52/100\n",
            "31/31 [==============================] - 2s 53ms/step - loss: 5.4855 - lr: 3.5481e-06\n",
            "Epoch 53/100\n",
            "31/31 [==============================] - 1s 39ms/step - loss: 5.2633 - lr: 3.9811e-06\n",
            "Epoch 54/100\n",
            "31/31 [==============================] - 1s 35ms/step - loss: 5.1961 - lr: 4.4668e-06\n",
            "Epoch 55/100\n",
            "31/31 [==============================] - 1s 33ms/step - loss: 5.2018 - lr: 5.0119e-06\n",
            "Epoch 56/100\n",
            "31/31 [==============================] - 1s 35ms/step - loss: 5.0397 - lr: 5.6234e-06\n",
            "Epoch 57/100\n",
            "31/31 [==============================] - 1s 39ms/step - loss: 5.0137 - lr: 6.3096e-06\n",
            "Epoch 58/100\n",
            "31/31 [==============================] - 1s 35ms/step - loss: 5.0637 - lr: 7.0795e-06\n",
            "Epoch 59/100\n",
            "31/31 [==============================] - 2s 70ms/step - loss: 5.8029 - lr: 7.9433e-06\n",
            "Epoch 60/100\n",
            "31/31 [==============================] - 1s 33ms/step - loss: 5.0946 - lr: 8.9125e-06\n",
            "Epoch 61/100\n",
            "31/31 [==============================] - 1s 37ms/step - loss: 5.6952 - lr: 1.0000e-05\n",
            "Epoch 62/100\n",
            "31/31 [==============================] - 1s 35ms/step - loss: 5.2804 - lr: 1.1220e-05\n",
            "Epoch 63/100\n",
            "31/31 [==============================] - 1s 37ms/step - loss: 5.0827 - lr: 1.2589e-05\n",
            "Epoch 64/100\n",
            "31/31 [==============================] - 1s 39ms/step - loss: 4.9621 - lr: 1.4125e-05\n",
            "Epoch 65/100\n",
            "31/31 [==============================] - 1s 36ms/step - loss: 5.0352 - lr: 1.5849e-05\n",
            "Epoch 66/100\n",
            "31/31 [==============================] - 2s 51ms/step - loss: 4.8218 - lr: 1.7783e-05\n",
            "Epoch 67/100\n",
            "31/31 [==============================] - 2s 52ms/step - loss: 4.9652 - lr: 1.9953e-05\n",
            "Epoch 68/100\n",
            "31/31 [==============================] - 1s 35ms/step - loss: 5.3501 - lr: 2.2387e-05\n",
            "Epoch 69/100\n",
            "31/31 [==============================] - 1s 38ms/step - loss: 5.7639 - lr: 2.5119e-05\n",
            "Epoch 70/100\n",
            "31/31 [==============================] - 1s 41ms/step - loss: 4.9258 - lr: 2.8184e-05\n",
            "Epoch 71/100\n",
            "31/31 [==============================] - 1s 39ms/step - loss: 5.9013 - lr: 3.1623e-05\n",
            "Epoch 72/100\n",
            "31/31 [==============================] - 1s 39ms/step - loss: 5.6172 - lr: 3.5481e-05\n",
            "Epoch 73/100\n",
            "31/31 [==============================] - 2s 62ms/step - loss: 5.2472 - lr: 3.9811e-05\n",
            "Epoch 74/100\n",
            "31/31 [==============================] - 1s 36ms/step - loss: 6.5426 - lr: 4.4668e-05\n",
            "Epoch 75/100\n",
            "31/31 [==============================] - 1s 35ms/step - loss: 5.5080 - lr: 5.0119e-05\n",
            "Epoch 76/100\n",
            "31/31 [==============================] - 1s 39ms/step - loss: 5.9403 - lr: 5.6234e-05\n",
            "Epoch 77/100\n",
            "31/31 [==============================] - 1s 33ms/step - loss: 5.7103 - lr: 6.3096e-05\n",
            "Epoch 78/100\n",
            "31/31 [==============================] - 1s 34ms/step - loss: 6.4623 - lr: 7.0795e-05\n",
            "Epoch 79/100\n",
            "31/31 [==============================] - 1s 35ms/step - loss: 5.2828 - lr: 7.9433e-05\n",
            "Epoch 80/100\n",
            "31/31 [==============================] - 1s 33ms/step - loss: 5.5085 - lr: 8.9125e-05\n",
            "Epoch 81/100\n",
            "31/31 [==============================] - 1s 44ms/step - loss: 7.8060 - lr: 1.0000e-04\n",
            "Epoch 82/100\n",
            "31/31 [==============================] - 1s 36ms/step - loss: 6.2115 - lr: 1.1220e-04\n",
            "Epoch 83/100\n",
            "31/31 [==============================] - 1s 39ms/step - loss: 7.8512 - lr: 1.2589e-04\n",
            "Epoch 84/100\n",
            "31/31 [==============================] - 1s 40ms/step - loss: 7.7070 - lr: 1.4125e-04\n",
            "Epoch 85/100\n",
            "31/31 [==============================] - 1s 39ms/step - loss: 8.3891 - lr: 1.5849e-04\n",
            "Epoch 86/100\n",
            "31/31 [==============================] - 1s 33ms/step - loss: 8.1475 - lr: 1.7783e-04\n",
            "Epoch 87/100\n",
            "31/31 [==============================] - 1s 41ms/step - loss: 7.0158 - lr: 1.9953e-04\n",
            "Epoch 88/100\n",
            "31/31 [==============================] - 1s 38ms/step - loss: 5.9564 - lr: 2.2387e-04\n",
            "Epoch 89/100\n",
            "31/31 [==============================] - 1s 34ms/step - loss: 7.7798 - lr: 2.5119e-04\n",
            "Epoch 90/100\n",
            "31/31 [==============================] - 1s 33ms/step - loss: 6.2840 - lr: 2.8184e-04\n",
            "Epoch 91/100\n",
            "31/31 [==============================] - 1s 34ms/step - loss: 6.6315 - lr: 3.1623e-04\n",
            "Epoch 92/100\n",
            "31/31 [==============================] - 1s 33ms/step - loss: 6.4080 - lr: 3.5481e-04\n",
            "Epoch 93/100\n",
            "31/31 [==============================] - 1s 34ms/step - loss: 9.0079 - lr: 3.9811e-04\n",
            "Epoch 94/100\n",
            "31/31 [==============================] - 2s 49ms/step - loss: 10.3731 - lr: 4.4668e-04\n",
            "Epoch 95/100\n",
            "31/31 [==============================] - 1s 37ms/step - loss: 9.1091 - lr: 5.0119e-04\n",
            "Epoch 96/100\n",
            "31/31 [==============================] - 1s 34ms/step - loss: 10.2613 - lr: 5.6234e-04\n",
            "Epoch 97/100\n",
            "31/31 [==============================] - 1s 39ms/step - loss: 10.0167 - lr: 6.3096e-04\n",
            "Epoch 98/100\n",
            "31/31 [==============================] - 1s 39ms/step - loss: 10.5596 - lr: 7.0795e-04\n",
            "Epoch 99/100\n",
            "31/31 [==============================] - 1s 35ms/step - loss: 9.6646 - lr: 7.9433e-04\n",
            "Epoch 100/100\n",
            "31/31 [==============================] - 1s 35ms/step - loss: 13.5064 - lr: 8.9125e-04\n"
          ]
        }
      ],
      "source": [
        "# Set the learning rate scheduler\n",
        "lr_schedule = tf.keras.callbacks.LearningRateScheduler(\n",
        "    lambda epoch: 1e-8 * 10**(epoch / 20))\n",
        "\n",
        "# Initialize the optimizer\n",
        "optimizer = tf.keras.optimizers.SGD(momentum=0.9)\n",
        "\n",
        "# Set the training parameters\n",
        "model_tune.compile(loss=tf.keras.losses.Huber(), optimizer=optimizer)\n",
        "\n",
        "# Train the model\n",
        "history = model_tune.fit(dataset, epochs=100, callbacks=[lr_schedule])"
      ]
    },
    {
      "cell_type": "code",
      "execution_count": 10,
      "metadata": {
        "id": "AkBsrsXMzoWR",
        "colab": {
          "base_uri": "https://localhost:8080/",
          "height": 558
        },
        "outputId": "0ec7e502-68c0-4698-92ef-24d20724c1c6"
      },
      "outputs": [
        {
          "output_type": "execute_result",
          "data": {
            "text/plain": [
              "(1e-08, 0.001, 0.0, 30.0)"
            ]
          },
          "metadata": {},
          "execution_count": 10
        },
        {
          "output_type": "display_data",
          "data": {
            "text/plain": [
              "<Figure size 1000x600 with 1 Axes>"
            ],
            "image/png": "[encoded data removed]"
          },
          "metadata": {}
        }
      ],
      "source": [
        "# Define the learning rate array\n",
        "lrs = 1e-8 * (10 ** (np.arange(100) / 20))\n",
        "\n",
        "# Set the figure size\n",
        "plt.figure(figsize=(10, 6))\n",
        "\n",
        "# Set the grid\n",
        "plt.grid(True)\n",
        "\n",
        "# Plot the loss in log scale\n",
        "plt.semilogx(lrs, history.history[\"loss\"])\n",
        "\n",
        "# Increase the tickmarks size\n",
        "plt.tick_params('both', length=10, width=1, which='both')\n",
        "\n",
        "# Set the plot boundaries\n",
        "plt.axis([1e-8, 1e-3, 0, 30])"
      ]
    },
    {
      "cell_type": "markdown",
      "metadata": {
        "id": "i-lKNp4pq_w8"
      },
      "source": [
        "## Train the Model\n",
        "\n",
        "You can then proceed to train the model with your chosen learning rate. \n",
        "\n",
        "*Tip: When experimenting and you find yourself running different iterations of a model, you may want to use the [`clear_session()`](https://www.tensorflow.org/api_docs/python/tf/keras/backend/clear_session) method to declutter memory used by Keras. This is added in the first line below.*\n"
      ]
    },
    {
      "cell_type": "code",
      "execution_count": 11,
      "metadata": {
        "id": "4uh-97bpLZCA",
        "colab": {
          "base_uri": "https://localhost:8080/"
        },
        "outputId": "1eac9ada-8006-46ac-dfba-843ca8d08042"
      },
      "outputs": [
        {
          "output_type": "stream",
          "name": "stdout",
          "text": [
            "Epoch 1/100\n",
            "31/31 [==============================] - 10s 35ms/step - loss: 11.6486 - mae: 12.1342\n",
            "Epoch 2/100\n",
            "31/31 [==============================] - 1s 36ms/step - loss: 9.4603 - mae: 9.9431\n",
            "Epoch 3/100\n",
            "31/31 [==============================] - 2s 63ms/step - loss: 8.8330 - mae: 9.3173\n",
            "Epoch 4/100\n",
            "31/31 [==============================] - 1s 34ms/step - loss: 8.2949 - mae: 8.7807\n",
            "Epoch 5/100\n",
            "31/31 [==============================] - 1s 33ms/step - loss: 8.0695 - mae: 8.5527\n",
            "Epoch 6/100\n",
            "31/31 [==============================] - 1s 36ms/step - loss: 7.9118 - mae: 8.3979\n",
            "Epoch 7/100\n",
            "31/31 [==============================] - 1s 38ms/step - loss: 7.8724 - mae: 8.3571\n",
            "Epoch 8/100\n",
            "31/31 [==============================] - 1s 39ms/step - loss: 7.5678 - mae: 8.0528\n",
            "Epoch 9/100\n",
            "31/31 [==============================] - 1s 33ms/step - loss: 7.3938 - mae: 7.8774\n",
            "Epoch 10/100\n",
            "31/31 [==============================] - 2s 46ms/step - loss: 7.1045 - mae: 7.5852\n",
            "Epoch 11/100\n",
            "31/31 [==============================] - 1s 39ms/step - loss: 6.9810 - mae: 7.4566\n",
            "Epoch 12/100\n",
            "31/31 [==============================] - 1s 39ms/step - loss: 6.9782 - mae: 7.4612\n",
            "Epoch 13/100\n",
            "31/31 [==============================] - 1s 35ms/step - loss: 6.7609 - mae: 7.2449\n",
            "Epoch 14/100\n",
            "31/31 [==============================] - 1s 38ms/step - loss: 6.7583 - mae: 7.2375\n",
            "Epoch 15/100\n",
            "31/31 [==============================] - 1s 39ms/step - loss: 6.6887 - mae: 7.1739\n",
            "Epoch 16/100\n",
            "31/31 [==============================] - 2s 48ms/step - loss: 6.6152 - mae: 7.0970\n",
            "Epoch 17/100\n",
            "31/31 [==============================] - 1s 38ms/step - loss: 6.4965 - mae: 6.9790\n",
            "Epoch 18/100\n",
            "31/31 [==============================] - 1s 38ms/step - loss: 6.5077 - mae: 6.9906\n",
            "Epoch 19/100\n",
            "31/31 [==============================] - 1s 33ms/step - loss: 6.3168 - mae: 6.7950\n",
            "Epoch 20/100\n",
            "31/31 [==============================] - 1s 35ms/step - loss: 6.3207 - mae: 6.8029\n",
            "Epoch 21/100\n",
            "31/31 [==============================] - 1s 39ms/step - loss: 6.2924 - mae: 6.7728\n",
            "Epoch 22/100\n",
            "31/31 [==============================] - 2s 56ms/step - loss: 6.1127 - mae: 6.5942\n",
            "Epoch 23/100\n",
            "31/31 [==============================] - 1s 39ms/step - loss: 6.0941 - mae: 6.5719\n",
            "Epoch 24/100\n",
            "31/31 [==============================] - 1s 39ms/step - loss: 6.1283 - mae: 6.6093\n",
            "Epoch 25/100\n",
            "31/31 [==============================] - 1s 34ms/step - loss: 6.2677 - mae: 6.7481\n",
            "Epoch 26/100\n",
            "31/31 [==============================] - 1s 34ms/step - loss: 5.9243 - mae: 6.4068\n",
            "Epoch 27/100\n",
            "31/31 [==============================] - 1s 33ms/step - loss: 5.8380 - mae: 6.3166\n",
            "Epoch 28/100\n",
            "31/31 [==============================] - 1s 34ms/step - loss: 5.8212 - mae: 6.2993\n",
            "Epoch 29/100\n",
            "31/31 [==============================] - 2s 48ms/step - loss: 5.7487 - mae: 6.2286\n",
            "Epoch 30/100\n",
            "31/31 [==============================] - 1s 39ms/step - loss: 5.6959 - mae: 6.1760\n",
            "Epoch 31/100\n",
            "31/31 [==============================] - 1s 35ms/step - loss: 5.7044 - mae: 6.1872\n",
            "Epoch 32/100\n",
            "31/31 [==============================] - 1s 33ms/step - loss: 5.6931 - mae: 6.1710\n",
            "Epoch 33/100\n",
            "31/31 [==============================] - 1s 34ms/step - loss: 5.7238 - mae: 6.2041\n",
            "Epoch 34/100\n",
            "31/31 [==============================] - 1s 37ms/step - loss: 5.6273 - mae: 6.1045\n",
            "Epoch 35/100\n",
            "31/31 [==============================] - 1s 37ms/step - loss: 5.7622 - mae: 6.2429\n",
            "Epoch 36/100\n",
            "31/31 [==============================] - 2s 50ms/step - loss: 5.6689 - mae: 6.1499\n",
            "Epoch 37/100\n",
            "31/31 [==============================] - 1s 35ms/step - loss: 5.5330 - mae: 6.0151\n",
            "Epoch 38/100\n",
            "31/31 [==============================] - 1s 38ms/step - loss: 5.4950 - mae: 5.9743\n",
            "Epoch 39/100\n",
            "31/31 [==============================] - 1s 38ms/step - loss: 5.4320 - mae: 5.9114\n",
            "Epoch 40/100\n",
            "31/31 [==============================] - 1s 40ms/step - loss: 5.4113 - mae: 5.8910\n",
            "Epoch 41/100\n",
            "31/31 [==============================] - 1s 39ms/step - loss: 5.3801 - mae: 5.8570\n",
            "Epoch 42/100\n",
            "31/31 [==============================] - 2s 50ms/step - loss: 5.4070 - mae: 5.8881\n",
            "Epoch 43/100\n",
            "31/31 [==============================] - 1s 39ms/step - loss: 5.4146 - mae: 5.8905\n",
            "Epoch 44/100\n",
            "31/31 [==============================] - 1s 36ms/step - loss: 5.2706 - mae: 5.7492\n",
            "Epoch 45/100\n",
            "31/31 [==============================] - 1s 38ms/step - loss: 5.3124 - mae: 5.7876\n",
            "Epoch 46/100\n",
            "31/31 [==============================] - 1s 33ms/step - loss: 5.2867 - mae: 5.7672\n",
            "Epoch 47/100\n",
            "31/31 [==============================] - 1s 37ms/step - loss: 5.3096 - mae: 5.7887\n",
            "Epoch 48/100\n",
            "31/31 [==============================] - 1s 38ms/step - loss: 5.1412 - mae: 5.6171\n",
            "Epoch 49/100\n",
            "31/31 [==============================] - 2s 40ms/step - loss: 5.1010 - mae: 5.5778\n",
            "Epoch 50/100\n",
            "31/31 [==============================] - 1s 35ms/step - loss: 5.1057 - mae: 5.5843\n",
            "Epoch 51/100\n",
            "31/31 [==============================] - 1s 35ms/step - loss: 5.0882 - mae: 5.5629\n",
            "Epoch 52/100\n",
            "31/31 [==============================] - 1s 37ms/step - loss: 5.1716 - mae: 5.6519\n",
            "Epoch 53/100\n",
            "31/31 [==============================] - 1s 36ms/step - loss: 5.0595 - mae: 5.5367\n",
            "Epoch 54/100\n",
            "31/31 [==============================] - 1s 35ms/step - loss: 5.0303 - mae: 5.5054\n",
            "Epoch 55/100\n",
            "31/31 [==============================] - 1s 40ms/step - loss: 4.9984 - mae: 5.4732\n",
            "Epoch 56/100\n",
            "31/31 [==============================] - 2s 70ms/step - loss: 4.9841 - mae: 5.4634\n",
            "Epoch 57/100\n",
            "31/31 [==============================] - 1s 36ms/step - loss: 5.1062 - mae: 5.5910\n",
            "Epoch 58/100\n",
            "31/31 [==============================] - 1s 40ms/step - loss: 4.9532 - mae: 5.4292\n",
            "Epoch 59/100\n",
            "31/31 [==============================] - 1s 38ms/step - loss: 4.9752 - mae: 5.4524\n",
            "Epoch 60/100\n",
            "31/31 [==============================] - 1s 35ms/step - loss: 4.8971 - mae: 5.3728\n",
            "Epoch 61/100\n",
            "31/31 [==============================] - 1s 40ms/step - loss: 4.8972 - mae: 5.3719\n",
            "Epoch 62/100\n",
            "31/31 [==============================] - 2s 61ms/step - loss: 4.8793 - mae: 5.3565\n",
            "Epoch 63/100\n",
            "31/31 [==============================] - 1s 40ms/step - loss: 4.8372 - mae: 5.3145\n",
            "Epoch 64/100\n",
            "31/31 [==============================] - 1s 36ms/step - loss: 4.8472 - mae: 5.3235\n",
            "Epoch 65/100\n",
            "31/31 [==============================] - 1s 34ms/step - loss: 4.8370 - mae: 5.3156\n",
            "Epoch 66/100\n",
            "31/31 [==============================] - 1s 34ms/step - loss: 4.8546 - mae: 5.3338\n",
            "Epoch 67/100\n",
            "31/31 [==============================] - 1s 37ms/step - loss: 4.7993 - mae: 5.2763\n",
            "Epoch 68/100\n",
            "31/31 [==============================] - 2s 46ms/step - loss: 4.8633 - mae: 5.3375\n",
            "Epoch 69/100\n",
            "31/31 [==============================] - 1s 34ms/step - loss: 4.8192 - mae: 5.2961\n",
            "Epoch 70/100\n",
            "31/31 [==============================] - 1s 36ms/step - loss: 4.7982 - mae: 5.2730\n",
            "Epoch 71/100\n",
            "31/31 [==============================] - 1s 35ms/step - loss: 4.8276 - mae: 5.3078\n",
            "Epoch 72/100\n",
            "31/31 [==============================] - 1s 34ms/step - loss: 4.7341 - mae: 5.2107\n",
            "Epoch 73/100\n",
            "31/31 [==============================] - 1s 35ms/step - loss: 4.7400 - mae: 5.2171\n",
            "Epoch 74/100\n",
            "31/31 [==============================] - 1s 38ms/step - loss: 4.7407 - mae: 5.2162\n",
            "Epoch 75/100\n",
            "31/31 [==============================] - 2s 47ms/step - loss: 4.7561 - mae: 5.2346\n",
            "Epoch 76/100\n",
            "31/31 [==============================] - 2s 53ms/step - loss: 4.7393 - mae: 5.2163\n",
            "Epoch 77/100\n",
            "31/31 [==============================] - 1s 39ms/step - loss: 4.7003 - mae: 5.1789\n",
            "Epoch 78/100\n",
            "31/31 [==============================] - 1s 37ms/step - loss: 4.7029 - mae: 5.1767\n",
            "Epoch 79/100\n",
            "31/31 [==============================] - 1s 35ms/step - loss: 4.6924 - mae: 5.1692\n",
            "Epoch 80/100\n",
            "31/31 [==============================] - 1s 38ms/step - loss: 4.8156 - mae: 5.2953\n",
            "Epoch 81/100\n",
            "31/31 [==============================] - 1s 34ms/step - loss: 4.7572 - mae: 5.2341\n",
            "Epoch 82/100\n",
            "31/31 [==============================] - 2s 64ms/step - loss: 4.7171 - mae: 5.1933\n",
            "Epoch 83/100\n",
            "31/31 [==============================] - 1s 35ms/step - loss: 4.6875 - mae: 5.1616\n",
            "Epoch 84/100\n",
            "31/31 [==============================] - 1s 39ms/step - loss: 4.6357 - mae: 5.1120\n",
            "Epoch 85/100\n",
            "31/31 [==============================] - 1s 34ms/step - loss: 4.7250 - mae: 5.1978\n",
            "Epoch 86/100\n",
            "31/31 [==============================] - 1s 39ms/step - loss: 4.7170 - mae: 5.1913\n",
            "Epoch 87/100\n",
            "31/31 [==============================] - 1s 34ms/step - loss: 4.6380 - mae: 5.1142\n",
            "Epoch 88/100\n",
            "31/31 [==============================] - 1s 34ms/step - loss: 4.6647 - mae: 5.1345\n",
            "Epoch 89/100\n",
            "31/31 [==============================] - 2s 51ms/step - loss: 4.6242 - mae: 5.1014\n",
            "Epoch 90/100\n",
            "31/31 [==============================] - 1s 36ms/step - loss: 4.6208 - mae: 5.0955\n",
            "Epoch 91/100\n",
            "31/31 [==============================] - 1s 39ms/step - loss: 4.5902 - mae: 5.0664\n",
            "Epoch 92/100\n",
            "31/31 [==============================] - 1s 38ms/step - loss: 4.7202 - mae: 5.1929\n",
            "Epoch 93/100\n",
            "31/31 [==============================] - 1s 36ms/step - loss: 4.6489 - mae: 5.1234\n",
            "Epoch 94/100\n",
            "31/31 [==============================] - 2s 46ms/step - loss: 4.6148 - mae: 5.0917\n",
            "Epoch 95/100\n",
            "31/31 [==============================] - 1s 35ms/step - loss: 4.6219 - mae: 5.0960\n",
            "Epoch 96/100\n",
            "31/31 [==============================] - 1s 35ms/step - loss: 4.6590 - mae: 5.1392\n",
            "Epoch 97/100\n",
            "31/31 [==============================] - 1s 35ms/step - loss: 4.7266 - mae: 5.2044\n",
            "Epoch 98/100\n",
            "31/31 [==============================] - 1s 35ms/step - loss: 4.6489 - mae: 5.1273\n",
            "Epoch 99/100\n",
            "31/31 [==============================] - 1s 34ms/step - loss: 4.5686 - mae: 5.0401\n",
            "Epoch 100/100\n",
            "31/31 [==============================] - 1s 34ms/step - loss: 4.5785 - mae: 5.0534\n"
          ]
        }
      ],
      "source": [
        "# Reset states generated by Keras\n",
        "tf.keras.backend.clear_session()\n",
        "\n",
        "# Build the model\n",
        "model = tf.keras.models.Sequential([\n",
        "  tf.keras.layers.Lambda(lambda x: tf.expand_dims(x, axis=-1),\n",
        "                      input_shape=[None]),\n",
        "  tf.keras.layers.Bidirectional(tf.keras.layers.LSTM(32, return_sequences=True)),\n",
        "  tf.keras.layers.Bidirectional(tf.keras.layers.LSTM(32)),\n",
        "  tf.keras.layers.Dense(1),\n",
        "  tf.keras.layers.Lambda(lambda x: x * 100.0)\n",
        "])\n",
        "\n",
        "# Set the learning rate\n",
        "learning_rate = 2e-6\n",
        "\n",
        "# Set the optimizer \n",
        "optimizer = tf.keras.optimizers.SGD(learning_rate=learning_rate, momentum=0.9)\n",
        "\n",
        "# Set the training parameters\n",
        "model.compile(loss=tf.keras.losses.Huber(),\n",
        "              optimizer=optimizer,\n",
        "              metrics=[\"mae\"])\n",
        "\n",
        "# Train the model\n",
        "history = model.fit(dataset,epochs=100)"
      ]
    },
    {
      "cell_type": "markdown",
      "metadata": {
        "id": "RjP4kbGiI7cw"
      },
      "source": [
        "## Model Prediction\n",
        "\n",
        "You will then generate batches of windows to generate predictions that align with the validation set."
      ]
    },
    {
      "cell_type": "code",
      "execution_count": 12,
      "metadata": {
        "id": "QO8cfKwKBBG6"
      },
      "outputs": [],
      "source": [
        "def model_forecast(model, series, window_size, batch_size):\n",
        "    \"\"\"Uses an input model to generate predictions on data windows\n",
        "\n",
        "    Args:\n",
        "      model (TF Keras Model) - model that accepts data windows\n",
        "      series (array of float) - contains the values of the time series\n",
        "      window_size (int) - the number of time steps to include in the window\n",
        "      batch_size (int) - the batch size\n",
        "\n",
        "    Returns:\n",
        "      forecast (numpy array) - array containing predictions\n",
        "    \"\"\"\n",
        "\n",
        "    # Generate a TF Dataset from the series values\n",
        "    dataset = tf.data.Dataset.from_tensor_slices(series)\n",
        "\n",
        "    # Window the data but only take those with the specified size\n",
        "    dataset = dataset.window(window_size, shift=1, drop_remainder=True)\n",
        "\n",
        "    # Flatten the windows by putting its elements in a single batch\n",
        "    dataset = dataset.flat_map(lambda w: w.batch(window_size))\n",
        "    \n",
        "    # Create batches of windows\n",
        "    dataset = dataset.batch(batch_size).prefetch(1)\n",
        "    \n",
        "    # Get predictions on the entire dataset\n",
        "    forecast = model.predict(dataset)\n",
        "    \n",
        "    return forecast"
      ]
    },
    {
      "cell_type": "code",
      "execution_count": 13,
      "metadata": {
        "id": "_plB3UseBD8o",
        "colab": {
          "base_uri": "https://localhost:8080/",
          "height": 559
        },
        "outputId": "b6915047-71b3-4827-999e-de58acc46ab1"
      },
      "outputs": [
        {
          "output_type": "stream",
          "name": "stdout",
          "text": [
            "15/15 [==============================] - 2s 16ms/step\n"
          ]
        },
        {
          "output_type": "display_data",
          "data": {
            "text/plain": [
              "<Figure size 1000x600 with 1 Axes>"
            ],
            "image/png": "[encoded data removed]"
          },
          "metadata": {}
        }
      ],
      "source": [
        "# Reduce the original series\n",
        "forecast_series = series[split_time-window_size:-1]\n",
        "\n",
        "# Use helper function to generate predictions\n",
        "forecast = model_forecast(model, forecast_series, window_size, batch_size)\n",
        "\n",
        "# Drop single dimensional axis\n",
        "results = forecast.squeeze()\n",
        "\n",
        "# Plot the results\n",
        "plot_series(time_valid, (x_valid, results))"
      ]
    },
    {
      "cell_type": "markdown",
      "metadata": {
        "id": "Nn8iSQkZtaRC"
      },
      "source": [
        "You can then generate the metrics to evaluate the model's performance."
      ]
    },
    {
      "cell_type": "code",
      "execution_count": 14,
      "metadata": {
        "id": "-IKhueZaBGID",
        "colab": {
          "base_uri": "https://localhost:8080/"
        },
        "outputId": "1f7e2f2a-446c-4f0a-b796-bf3aff0c2f5e"
      },
      "outputs": [
        {
          "output_type": "stream",
          "name": "stdout",
          "text": [
            "69.106636\n",
            "5.815315\n"
          ]
        }
      ],
      "source": [
        "# Compute the MSE and MAE\n",
        "print(tf.keras.metrics.mean_squared_error(x_valid, results).numpy())\n",
        "print(tf.keras.metrics.mean_absolute_error(x_valid, results).numpy())"
      ]
    },
    {
      "cell_type": "markdown",
      "metadata": {
        "id": "bzPIqeMWvbPy"
      },
      "source": [
        "## Wrap Up\n",
        "\n",
        "This concludes this short exercise on using LSTMs for time series forecasting. Next week, you will build upon this and add convolutions. Then, you will start to move away from synthetic data and use real-world datasets. See you there!"
      ]
    },
    {
      "cell_type": "markdown",
      "metadata": {
        "id": "U5PqTePGHeMH"
      },
      "source": [
        "## Optional: Including a Validation Set while Training\n",
        "\n",
        "Back in the first course of this specialization, you saw how you can also monitor the performance of your model against a validation set while training. You can also do that for this lab. \n",
        "\n",
        "First, you need to generate a `val_set` which are data windows and labels that your model can accept. You can simply reuse the `windowed_dataset` function for that and you can pass in the `x_valid` points to generate the windows."
      ]
    },
    {
      "cell_type": "code",
      "execution_count": 15,
      "metadata": {
        "id": "kvFVwL3PC4iX"
      },
      "outputs": [],
      "source": [
        "# Generate data windows of the validation set\n",
        "val_set = windowed_dataset(x_valid, window_size, batch_size, shuffle_buffer_size)"
      ]
    },
    {
      "cell_type": "markdown",
      "metadata": {
        "id": "p68j6XxEvP9K"
      },
      "source": [
        "You can then do the same training as before but pass in the `val_set` to the `validation_data` parameter of the `fit()` method."
      ]
    },
    {
      "cell_type": "code",
      "execution_count": 16,
      "metadata": {
        "id": "wujKz6tXDSn0",
        "colab": {
          "base_uri": "https://localhost:8080/"
        },
        "outputId": "4a803c1f-98a1-43ca-9d3c-76a8f91a29ff"
      },
      "outputs": [
        {
          "output_type": "stream",
          "name": "stdout",
          "text": [
            "Epoch 1/100\n",
            "31/31 [==============================] - 12s 140ms/step - loss: 32.3618 - mae: 32.8582 - val_loss: 22.0401 - val_mae: 22.5377\n",
            "Epoch 2/100\n",
            "31/31 [==============================] - 2s 47ms/step - loss: 12.4429 - mae: 12.9341 - val_loss: 23.1544 - val_mae: 23.6517\n",
            "Epoch 3/100\n",
            "31/31 [==============================] - 1s 44ms/step - loss: 8.4733 - mae: 8.9549 - val_loss: 16.5034 - val_mae: 17.0011\n",
            "Epoch 4/100\n",
            "31/31 [==============================] - 3s 89ms/step - loss: 7.7486 - mae: 8.2307 - val_loss: 13.9806 - val_mae: 14.4747\n",
            "Epoch 5/100\n",
            "31/31 [==============================] - 2s 47ms/step - loss: 7.6230 - mae: 8.1048 - val_loss: 13.0517 - val_mae: 13.5460\n",
            "Epoch 6/100\n",
            "31/31 [==============================] - 2s 46ms/step - loss: 7.3206 - mae: 7.8056 - val_loss: 11.6674 - val_mae: 12.1560\n",
            "Epoch 7/100\n",
            "31/31 [==============================] - 2s 51ms/step - loss: 7.0937 - mae: 7.5703 - val_loss: 11.5192 - val_mae: 12.0105\n",
            "Epoch 8/100\n",
            "31/31 [==============================] - 2s 45ms/step - loss: 6.8944 - mae: 7.3772 - val_loss: 10.9584 - val_mae: 11.4499\n",
            "Epoch 9/100\n",
            "31/31 [==============================] - 2s 58ms/step - loss: 6.7899 - mae: 7.2702 - val_loss: 11.3797 - val_mae: 11.8730\n",
            "Epoch 10/100\n",
            "31/31 [==============================] - 1s 41ms/step - loss: 6.7835 - mae: 7.2646 - val_loss: 11.3536 - val_mae: 11.8483\n",
            "Epoch 11/100\n",
            "31/31 [==============================] - 2s 45ms/step - loss: 6.5752 - mae: 7.0555 - val_loss: 10.4811 - val_mae: 10.9717\n",
            "Epoch 12/100\n",
            "31/31 [==============================] - 2s 46ms/step - loss: 6.4353 - mae: 6.9132 - val_loss: 10.1710 - val_mae: 10.6630\n",
            "Epoch 13/100\n",
            "31/31 [==============================] - 1s 44ms/step - loss: 6.3960 - mae: 6.8762 - val_loss: 10.6897 - val_mae: 11.1824\n",
            "Epoch 14/100\n",
            "31/31 [==============================] - 3s 80ms/step - loss: 6.2809 - mae: 6.7607 - val_loss: 10.4400 - val_mae: 10.9326\n",
            "Epoch 15/100\n",
            "31/31 [==============================] - 1s 44ms/step - loss: 6.2621 - mae: 6.7409 - val_loss: 8.8784 - val_mae: 9.3653\n",
            "Epoch 16/100\n",
            "31/31 [==============================] - 2s 47ms/step - loss: 6.1007 - mae: 6.5775 - val_loss: 9.3644 - val_mae: 9.8565\n",
            "Epoch 17/100\n",
            "31/31 [==============================] - 2s 50ms/step - loss: 6.0356 - mae: 6.5168 - val_loss: 8.4323 - val_mae: 8.9195\n",
            "Epoch 18/100\n",
            "31/31 [==============================] - 2s 49ms/step - loss: 6.0612 - mae: 6.5400 - val_loss: 8.3262 - val_mae: 8.8140\n",
            "Epoch 19/100\n",
            "31/31 [==============================] - 2s 51ms/step - loss: 5.9598 - mae: 6.4374 - val_loss: 7.8797 - val_mae: 8.3671\n",
            "Epoch 20/100\n",
            "31/31 [==============================] - 2s 49ms/step - loss: 5.7458 - mae: 6.2243 - val_loss: 8.0606 - val_mae: 8.5490\n",
            "Epoch 21/100\n",
            "31/31 [==============================] - 2s 48ms/step - loss: 5.6639 - mae: 6.1390 - val_loss: 8.4909 - val_mae: 8.9802\n",
            "Epoch 22/100\n",
            "31/31 [==============================] - 1s 41ms/step - loss: 5.6488 - mae: 6.1280 - val_loss: 8.5351 - val_mae: 9.0237\n",
            "Epoch 23/100\n",
            "31/31 [==============================] - 2s 48ms/step - loss: 5.5624 - mae: 6.0364 - val_loss: 7.6364 - val_mae: 8.1252\n",
            "Epoch 24/100\n",
            "31/31 [==============================] - 2s 46ms/step - loss: 5.4675 - mae: 5.9472 - val_loss: 7.7102 - val_mae: 8.1966\n",
            "Epoch 25/100\n",
            "31/31 [==============================] - 2s 62ms/step - loss: 5.4305 - mae: 5.9104 - val_loss: 8.3198 - val_mae: 8.8073\n",
            "Epoch 26/100\n",
            "31/31 [==============================] - 1s 44ms/step - loss: 5.5267 - mae: 6.0039 - val_loss: 7.3678 - val_mae: 7.8548\n",
            "Epoch 27/100\n",
            "31/31 [==============================] - 2s 48ms/step - loss: 5.4312 - mae: 5.9092 - val_loss: 7.6952 - val_mae: 8.1811\n",
            "Epoch 28/100\n",
            "31/31 [==============================] - 2s 45ms/step - loss: 5.2848 - mae: 5.7628 - val_loss: 6.9655 - val_mae: 7.4480\n",
            "Epoch 29/100\n",
            "31/31 [==============================] - 2s 45ms/step - loss: 5.2735 - mae: 5.7517 - val_loss: 7.5191 - val_mae: 8.0044\n",
            "Epoch 30/100\n",
            "31/31 [==============================] - 2s 47ms/step - loss: 5.2031 - mae: 5.6813 - val_loss: 7.1676 - val_mae: 7.6527\n",
            "Epoch 31/100\n",
            "31/31 [==============================] - 3s 78ms/step - loss: 5.0885 - mae: 5.5667 - val_loss: 7.5688 - val_mae: 8.0571\n",
            "Epoch 32/100\n",
            "31/31 [==============================] - 2s 49ms/step - loss: 5.0393 - mae: 5.5128 - val_loss: 7.1940 - val_mae: 7.6780\n",
            "Epoch 33/100\n",
            "31/31 [==============================] - 1s 40ms/step - loss: 4.9940 - mae: 5.4714 - val_loss: 6.9419 - val_mae: 7.4238\n",
            "Epoch 34/100\n",
            "31/31 [==============================] - 2s 46ms/step - loss: 4.9621 - mae: 5.4405 - val_loss: 6.8008 - val_mae: 7.2831\n",
            "Epoch 35/100\n",
            "31/31 [==============================] - 2s 49ms/step - loss: 4.9527 - mae: 5.4283 - val_loss: 7.8189 - val_mae: 8.3024\n",
            "Epoch 36/100\n",
            "31/31 [==============================] - 2s 48ms/step - loss: 4.9067 - mae: 5.3847 - val_loss: 7.1537 - val_mae: 7.6390\n",
            "Epoch 37/100\n",
            "31/31 [==============================] - 1s 40ms/step - loss: 4.9177 - mae: 5.3957 - val_loss: 6.3588 - val_mae: 6.8420\n",
            "Epoch 38/100\n",
            "31/31 [==============================] - 1s 43ms/step - loss: 4.8305 - mae: 5.3014 - val_loss: 6.2541 - val_mae: 6.7368\n",
            "Epoch 39/100\n",
            "31/31 [==============================] - 2s 45ms/step - loss: 4.7561 - mae: 5.2364 - val_loss: 7.2944 - val_mae: 7.7803\n",
            "Epoch 40/100\n",
            "31/31 [==============================] - 2s 65ms/step - loss: 4.8025 - mae: 5.2798 - val_loss: 7.1727 - val_mae: 7.6586\n",
            "Epoch 41/100\n",
            "31/31 [==============================] - 1s 44ms/step - loss: 4.7751 - mae: 5.2528 - val_loss: 6.3549 - val_mae: 6.8369\n",
            "Epoch 42/100\n",
            "31/31 [==============================] - 2s 50ms/step - loss: 4.7373 - mae: 5.2146 - val_loss: 6.5804 - val_mae: 7.0627\n",
            "Epoch 43/100\n",
            "31/31 [==============================] - 2s 47ms/step - loss: 4.7986 - mae: 5.2774 - val_loss: 6.8950 - val_mae: 7.3738\n",
            "Epoch 44/100\n",
            "31/31 [==============================] - 1s 41ms/step - loss: 4.8021 - mae: 5.2794 - val_loss: 6.9252 - val_mae: 7.4046\n",
            "Epoch 45/100\n",
            "31/31 [==============================] - 2s 46ms/step - loss: 4.6855 - mae: 5.1635 - val_loss: 6.5007 - val_mae: 6.9834\n",
            "Epoch 46/100\n",
            "31/31 [==============================] - 2s 45ms/step - loss: 4.6022 - mae: 5.0721 - val_loss: 6.0587 - val_mae: 6.5410\n",
            "Epoch 47/100\n",
            "31/31 [==============================] - 1s 42ms/step - loss: 4.6406 - mae: 5.1195 - val_loss: 6.4740 - val_mae: 6.9556\n",
            "Epoch 48/100\n",
            "31/31 [==============================] - 1s 41ms/step - loss: 4.5908 - mae: 5.0660 - val_loss: 6.6379 - val_mae: 7.1165\n",
            "Epoch 49/100\n",
            "31/31 [==============================] - 2s 45ms/step - loss: 4.7139 - mae: 5.1904 - val_loss: 6.5066 - val_mae: 6.9874\n",
            "Epoch 50/100\n",
            "31/31 [==============================] - 2s 45ms/step - loss: 4.5811 - mae: 5.0591 - val_loss: 6.4524 - val_mae: 6.9340\n",
            "Epoch 51/100\n",
            "31/31 [==============================] - 2s 55ms/step - loss: 4.5796 - mae: 5.0604 - val_loss: 5.9928 - val_mae: 6.4731\n",
            "Epoch 52/100\n",
            "31/31 [==============================] - 2s 49ms/step - loss: 4.5890 - mae: 5.0638 - val_loss: 5.9120 - val_mae: 6.3929\n",
            "Epoch 53/100\n",
            "31/31 [==============================] - 1s 40ms/step - loss: 4.7091 - mae: 5.1880 - val_loss: 5.8285 - val_mae: 6.3121\n",
            "Epoch 54/100\n",
            "31/31 [==============================] - 1s 44ms/step - loss: 4.6355 - mae: 5.1120 - val_loss: 5.8918 - val_mae: 6.3723\n",
            "Epoch 55/100\n",
            "31/31 [==============================] - 1s 39ms/step - loss: 4.5798 - mae: 5.0589 - val_loss: 5.7914 - val_mae: 6.2742\n",
            "Epoch 56/100\n",
            "31/31 [==============================] - 2s 57ms/step - loss: 4.5375 - mae: 5.0170 - val_loss: 5.6799 - val_mae: 6.1641\n",
            "Epoch 57/100\n",
            "31/31 [==============================] - 1s 40ms/step - loss: 4.6281 - mae: 5.1051 - val_loss: 5.7018 - val_mae: 6.1856\n",
            "Epoch 58/100\n",
            "31/31 [==============================] - 1s 44ms/step - loss: 4.6598 - mae: 5.1333 - val_loss: 5.8931 - val_mae: 6.3718\n",
            "Epoch 59/100\n",
            "31/31 [==============================] - 2s 49ms/step - loss: 4.5407 - mae: 5.0157 - val_loss: 5.9540 - val_mae: 6.4368\n",
            "Epoch 60/100\n",
            "31/31 [==============================] - 1s 44ms/step - loss: 4.4811 - mae: 4.9587 - val_loss: 6.1850 - val_mae: 6.6681\n",
            "Epoch 61/100\n",
            "31/31 [==============================] - 2s 49ms/step - loss: 4.5685 - mae: 5.0491 - val_loss: 5.6493 - val_mae: 6.1331\n",
            "Epoch 62/100\n",
            "31/31 [==============================] - 2s 48ms/step - loss: 4.4828 - mae: 4.9620 - val_loss: 6.2639 - val_mae: 6.7451\n",
            "Epoch 63/100\n",
            "31/31 [==============================] - 2s 47ms/step - loss: 4.4657 - mae: 4.9442 - val_loss: 5.8714 - val_mae: 6.3531\n",
            "Epoch 64/100\n",
            "31/31 [==============================] - 1s 43ms/step - loss: 4.5347 - mae: 5.0111 - val_loss: 5.8711 - val_mae: 6.3532\n",
            "Epoch 65/100\n",
            "31/31 [==============================] - 2s 45ms/step - loss: 4.5726 - mae: 5.0486 - val_loss: 5.5299 - val_mae: 6.0168\n",
            "Epoch 66/100\n",
            "31/31 [==============================] - 1s 44ms/step - loss: 4.5305 - mae: 5.0065 - val_loss: 5.7264 - val_mae: 6.2063\n",
            "Epoch 67/100\n",
            "31/31 [==============================] - 1s 44ms/step - loss: 4.5013 - mae: 4.9729 - val_loss: 6.7087 - val_mae: 7.1870\n",
            "Epoch 68/100\n",
            "31/31 [==============================] - 2s 46ms/step - loss: 4.4198 - mae: 4.8969 - val_loss: 5.8415 - val_mae: 6.3250\n",
            "Epoch 69/100\n",
            "31/31 [==============================] - 1s 40ms/step - loss: 4.5400 - mae: 5.0142 - val_loss: 5.9488 - val_mae: 6.4312\n",
            "Epoch 70/100\n",
            "31/31 [==============================] - 2s 45ms/step - loss: 4.5315 - mae: 5.0050 - val_loss: 5.5063 - val_mae: 5.9904\n",
            "Epoch 71/100\n",
            "31/31 [==============================] - 2s 49ms/step - loss: 4.6256 - mae: 5.1035 - val_loss: 5.4413 - val_mae: 5.9132\n",
            "Epoch 72/100\n",
            "31/31 [==============================] - 2s 77ms/step - loss: 4.6399 - mae: 5.1150 - val_loss: 5.9892 - val_mae: 6.4701\n",
            "Epoch 73/100\n",
            "31/31 [==============================] - 1s 44ms/step - loss: 4.4303 - mae: 4.9063 - val_loss: 6.4107 - val_mae: 6.8889\n",
            "Epoch 74/100\n",
            "31/31 [==============================] - 2s 45ms/step - loss: 4.5312 - mae: 5.0063 - val_loss: 6.6961 - val_mae: 7.1750\n",
            "Epoch 75/100\n",
            "31/31 [==============================] - 2s 49ms/step - loss: 4.5271 - mae: 5.0033 - val_loss: 5.4415 - val_mae: 5.9271\n",
            "Epoch 76/100\n",
            "31/31 [==============================] - 1s 44ms/step - loss: 4.4358 - mae: 4.9104 - val_loss: 5.8223 - val_mae: 6.3060\n",
            "Epoch 77/100\n",
            "31/31 [==============================] - 1s 43ms/step - loss: 4.4516 - mae: 4.9296 - val_loss: 5.6154 - val_mae: 6.0960\n",
            "Epoch 78/100\n",
            "31/31 [==============================] - 2s 73ms/step - loss: 4.4807 - mae: 4.9525 - val_loss: 5.8879 - val_mae: 6.3706\n",
            "Epoch 79/100\n",
            "31/31 [==============================] - 1s 41ms/step - loss: 4.4066 - mae: 4.8848 - val_loss: 6.1474 - val_mae: 6.6252\n",
            "Epoch 80/100\n",
            "31/31 [==============================] - 2s 49ms/step - loss: 4.4383 - mae: 4.9173 - val_loss: 5.7498 - val_mae: 6.2349\n",
            "Epoch 81/100\n",
            "31/31 [==============================] - 2s 48ms/step - loss: 4.4154 - mae: 4.8925 - val_loss: 6.4560 - val_mae: 6.9352\n",
            "Epoch 82/100\n",
            "31/31 [==============================] - 1s 40ms/step - loss: 4.4926 - mae: 4.9689 - val_loss: 5.9523 - val_mae: 6.4299\n",
            "Epoch 83/100\n",
            "31/31 [==============================] - 2s 46ms/step - loss: 4.4496 - mae: 4.9285 - val_loss: 5.5181 - val_mae: 5.9988\n",
            "Epoch 84/100\n",
            "31/31 [==============================] - 2s 48ms/step - loss: 4.4896 - mae: 4.9676 - val_loss: 5.4771 - val_mae: 5.9574\n",
            "Epoch 85/100\n",
            "31/31 [==============================] - 2s 46ms/step - loss: 4.4593 - mae: 4.9370 - val_loss: 5.8508 - val_mae: 6.3325\n",
            "Epoch 86/100\n",
            "31/31 [==============================] - 3s 93ms/step - loss: 4.5014 - mae: 4.9786 - val_loss: 6.1064 - val_mae: 6.5840\n",
            "Epoch 87/100\n",
            "31/31 [==============================] - 2s 60ms/step - loss: 4.4562 - mae: 4.9318 - val_loss: 6.0977 - val_mae: 6.5745\n",
            "Epoch 88/100\n",
            "31/31 [==============================] - 2s 70ms/step - loss: 4.5870 - mae: 5.0608 - val_loss: 5.3370 - val_mae: 5.8211\n",
            "Epoch 89/100\n",
            "31/31 [==============================] - 3s 98ms/step - loss: 4.5088 - mae: 4.9845 - val_loss: 5.4052 - val_mae: 5.8879\n",
            "Epoch 90/100\n",
            "31/31 [==============================] - 1s 41ms/step - loss: 4.4645 - mae: 4.9397 - val_loss: 5.4436 - val_mae: 5.9247\n",
            "Epoch 91/100\n",
            "31/31 [==============================] - 1s 41ms/step - loss: 4.5269 - mae: 5.0063 - val_loss: 6.2511 - val_mae: 6.7304\n",
            "Epoch 92/100\n",
            "31/31 [==============================] - 1s 44ms/step - loss: 4.4827 - mae: 4.9634 - val_loss: 5.4635 - val_mae: 5.9435\n",
            "Epoch 93/100\n",
            "31/31 [==============================] - 2s 45ms/step - loss: 4.3885 - mae: 4.8642 - val_loss: 6.1394 - val_mae: 6.6171\n",
            "Epoch 94/100\n",
            "31/31 [==============================] - 1s 41ms/step - loss: 4.4328 - mae: 4.9109 - val_loss: 6.1515 - val_mae: 6.6295\n",
            "Epoch 95/100\n",
            "31/31 [==============================] - 2s 47ms/step - loss: 4.6167 - mae: 5.0937 - val_loss: 5.7287 - val_mae: 6.2140\n",
            "Epoch 96/100\n",
            "31/31 [==============================] - 2s 49ms/step - loss: 4.5779 - mae: 5.0591 - val_loss: 5.3010 - val_mae: 5.7794\n",
            "Epoch 97/100\n",
            "31/31 [==============================] - 1s 44ms/step - loss: 4.4754 - mae: 4.9550 - val_loss: 5.6252 - val_mae: 6.1118\n",
            "Epoch 98/100\n",
            "31/31 [==============================] - 2s 46ms/step - loss: 4.4854 - mae: 4.9564 - val_loss: 5.6776 - val_mae: 6.1638\n",
            "Epoch 99/100\n",
            "31/31 [==============================] - 2s 48ms/step - loss: 4.4678 - mae: 4.9433 - val_loss: 5.3180 - val_mae: 5.8026\n",
            "Epoch 100/100\n",
            "31/31 [==============================] - 2s 71ms/step - loss: 4.4247 - mae: 4.8970 - val_loss: 5.4273 - val_mae: 5.9064\n"
          ]
        }
      ],
      "source": [
        "# Reset states generated by Keras\n",
        "tf.keras.backend.clear_session()\n",
        "\n",
        "# Build the model\n",
        "model = tf.keras.models.Sequential([\n",
        "  tf.keras.layers.Lambda(lambda x: tf.expand_dims(x, axis=-1),\n",
        "                      input_shape=[None]),\n",
        "  tf.keras.layers.Bidirectional(tf.keras.layers.LSTM(32, return_sequences=True)),\n",
        "  tf.keras.layers.Bidirectional(tf.keras.layers.LSTM(32)),\n",
        "  tf.keras.layers.Dense(1),\n",
        "  tf.keras.layers.Lambda(lambda x: x * 100.0)\n",
        "])\n",
        "\n",
        "# Set the learning rate\n",
        "learning_rate = 2e-6\n",
        "\n",
        "# Set the optimizer \n",
        "optimizer = tf.keras.optimizers.SGD(learning_rate=learning_rate, momentum=0.9)\n",
        "\n",
        "# Set the training parameters\n",
        "model.compile(loss=tf.keras.losses.Huber(),\n",
        "              optimizer=optimizer,\n",
        "              metrics=[\"mae\"])\n",
        "\n",
        "# Train the model\n",
        "history = model.fit(dataset,epochs=100, validation_data=val_set)"
      ]
    }
  ],
  "metadata": {
    "colab": {
      "provenance": [],
      "toc_visible": true
    },
    "kernelspec": {
      "display_name": "Python 3",
      "language": "python",
      "name": "python3"
    },
    "language_info": {
      "codemirror_mode": {
        "name": "ipython",
        "version": 3
      },
      "file_extension": ".py",
      "mimetype": "text/x-python",
      "name": "python",
      "nbconvert_exporter": "python",
      "pygments_lexer": "ipython3",
      "version": "3.7.4"
    },
    "gpuClass": "standard"
  },
  "nbformat": 4,
  "nbformat_minor": 0
}